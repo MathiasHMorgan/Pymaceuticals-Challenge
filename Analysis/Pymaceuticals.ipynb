{
 "cells": [
  {
   "cell_type": "markdown",
   "metadata": {},
   "source": [
    "## Observations and Insights "
   ]
  },
  {
   "cell_type": "code",
   "execution_count": 1,
   "metadata": {},
   "outputs": [
    {
     "data": {
      "text/html": [
       "<div>\n",
       "<style scoped>\n",
       "    .dataframe tbody tr th:only-of-type {\n",
       "        vertical-align: middle;\n",
       "    }\n",
       "\n",
       "    .dataframe tbody tr th {\n",
       "        vertical-align: top;\n",
       "    }\n",
       "\n",
       "    .dataframe thead th {\n",
       "        text-align: right;\n",
       "    }\n",
       "</style>\n",
       "<table border=\"1\" class=\"dataframe\">\n",
       "  <thead>\n",
       "    <tr style=\"text-align: right;\">\n",
       "      <th></th>\n",
       "      <th>Mouse ID</th>\n",
       "      <th>Drug Regimen</th>\n",
       "      <th>Sex</th>\n",
       "      <th>Age_months</th>\n",
       "      <th>Weight (g)</th>\n",
       "      <th>Timepoint</th>\n",
       "      <th>Tumor Volume (mm3)</th>\n",
       "      <th>Metastatic Sites</th>\n",
       "    </tr>\n",
       "  </thead>\n",
       "  <tbody>\n",
       "    <tr>\n",
       "      <th>0</th>\n",
       "      <td>k403</td>\n",
       "      <td>Ramicane</td>\n",
       "      <td>Male</td>\n",
       "      <td>21</td>\n",
       "      <td>16</td>\n",
       "      <td>0</td>\n",
       "      <td>45.000000</td>\n",
       "      <td>0</td>\n",
       "    </tr>\n",
       "    <tr>\n",
       "      <th>1</th>\n",
       "      <td>k403</td>\n",
       "      <td>Ramicane</td>\n",
       "      <td>Male</td>\n",
       "      <td>21</td>\n",
       "      <td>16</td>\n",
       "      <td>5</td>\n",
       "      <td>38.825898</td>\n",
       "      <td>0</td>\n",
       "    </tr>\n",
       "    <tr>\n",
       "      <th>2</th>\n",
       "      <td>k403</td>\n",
       "      <td>Ramicane</td>\n",
       "      <td>Male</td>\n",
       "      <td>21</td>\n",
       "      <td>16</td>\n",
       "      <td>10</td>\n",
       "      <td>35.014271</td>\n",
       "      <td>1</td>\n",
       "    </tr>\n",
       "    <tr>\n",
       "      <th>3</th>\n",
       "      <td>k403</td>\n",
       "      <td>Ramicane</td>\n",
       "      <td>Male</td>\n",
       "      <td>21</td>\n",
       "      <td>16</td>\n",
       "      <td>15</td>\n",
       "      <td>34.223992</td>\n",
       "      <td>1</td>\n",
       "    </tr>\n",
       "    <tr>\n",
       "      <th>4</th>\n",
       "      <td>k403</td>\n",
       "      <td>Ramicane</td>\n",
       "      <td>Male</td>\n",
       "      <td>21</td>\n",
       "      <td>16</td>\n",
       "      <td>20</td>\n",
       "      <td>32.997729</td>\n",
       "      <td>1</td>\n",
       "    </tr>\n",
       "  </tbody>\n",
       "</table>\n",
       "</div>"
      ],
      "text/plain": [
       "  Mouse ID Drug Regimen   Sex  Age_months  Weight (g)  Timepoint  \\\n",
       "0     k403     Ramicane  Male          21          16          0   \n",
       "1     k403     Ramicane  Male          21          16          5   \n",
       "2     k403     Ramicane  Male          21          16         10   \n",
       "3     k403     Ramicane  Male          21          16         15   \n",
       "4     k403     Ramicane  Male          21          16         20   \n",
       "\n",
       "   Tumor Volume (mm3)  Metastatic Sites  \n",
       "0           45.000000                 0  \n",
       "1           38.825898                 0  \n",
       "2           35.014271                 1  \n",
       "3           34.223992                 1  \n",
       "4           32.997729                 1  "
      ]
     },
     "execution_count": 1,
     "metadata": {},
     "output_type": "execute_result"
    }
   ],
   "source": [
    "# Dependencies and Setup\n",
    "import matplotlib.pyplot as plt\n",
    "import pandas as pd\n",
    "import scipy.stats as st\n",
    "from scipy.stats import linregress\n",
    "import numpy as np\n",
    "\n",
    "# Study data files\n",
    "mouse_metadata_path = \"Mouse_metadata.csv\"\n",
    "study_results_path = \"Study_results.csv\"\n",
    "\n",
    "# Read the mouse data and the study results\n",
    "mouse_metadata = pd.read_csv(mouse_metadata_path)\n",
    "study_results = pd.read_csv(study_results_path)\n",
    "\n",
    "# Combine the data into a single dataset\n",
    "\n",
    "combined_mouse_df = pd.merge(mouse_metadata, study_results,\n",
    "                                 how='outer', on='Mouse ID')\n",
    "\n",
    "# Display the data table for preview\n",
    "\n",
    "combined_mouse_df.head()"
   ]
  },
  {
   "cell_type": "code",
   "execution_count": 2,
   "metadata": {},
   "outputs": [
    {
     "data": {
      "text/plain": [
       "249"
      ]
     },
     "execution_count": 2,
     "metadata": {},
     "output_type": "execute_result"
    }
   ],
   "source": [
    "# Checking the number of mice.\n",
    "\n",
    "mice_number = combined_mouse_df[\"Mouse ID\"].nunique()\n",
    "mice_number"
   ]
  },
  {
   "cell_type": "code",
   "execution_count": 3,
   "metadata": {},
   "outputs": [
    {
     "data": {
      "text/plain": [
       "array(['g989'], dtype=object)"
      ]
     },
     "execution_count": 3,
     "metadata": {},
     "output_type": "execute_result"
    }
   ],
   "source": [
    "# Getting the duplicate mice by ID number that shows up for Mouse ID and Timepoint. \n",
    "\n",
    "duplicate_mice_data = combined_mouse_df.loc[combined_mouse_df.duplicated(subset=[\"Mouse ID\", \"Timepoint\"]),\"Mouse ID\"].unique()\n",
    "duplicate_mice_data"
   ]
  },
  {
   "cell_type": "code",
   "execution_count": 4,
   "metadata": {},
   "outputs": [
    {
     "data": {
      "text/html": [
       "<div>\n",
       "<style scoped>\n",
       "    .dataframe tbody tr th:only-of-type {\n",
       "        vertical-align: middle;\n",
       "    }\n",
       "\n",
       "    .dataframe tbody tr th {\n",
       "        vertical-align: top;\n",
       "    }\n",
       "\n",
       "    .dataframe thead th {\n",
       "        text-align: right;\n",
       "    }\n",
       "</style>\n",
       "<table border=\"1\" class=\"dataframe\">\n",
       "  <thead>\n",
       "    <tr style=\"text-align: right;\">\n",
       "      <th></th>\n",
       "      <th>0</th>\n",
       "    </tr>\n",
       "  </thead>\n",
       "  <tbody>\n",
       "    <tr>\n",
       "      <th>0</th>\n",
       "      <td>g989</td>\n",
       "    </tr>\n",
       "  </tbody>\n",
       "</table>\n",
       "</div>"
      ],
      "text/plain": [
       "      0\n",
       "0  g989"
      ]
     },
     "execution_count": 4,
     "metadata": {},
     "output_type": "execute_result"
    }
   ],
   "source": [
    "# Optional: Get all the data for the duplicate mouse ID. \n",
    "\n",
    "duplicate_mice_frame = pd.DataFrame(duplicate_mice_data)\n",
    "duplicate_mice_frame"
   ]
  },
  {
   "cell_type": "code",
   "execution_count": 5,
   "metadata": {},
   "outputs": [],
   "source": [
    "# Create a clean DataFrame by dropping the duplicate mouse by its ID.\n",
    "\n",
    "clean_mouse_df = combined_mouse_df.loc[combined_mouse_df['Mouse ID'].isin(duplicate_mice_data)==False]"
   ]
  },
  {
   "cell_type": "code",
   "execution_count": 6,
   "metadata": {},
   "outputs": [
    {
     "data": {
      "text/plain": [
       "248"
      ]
     },
     "execution_count": 6,
     "metadata": {},
     "output_type": "execute_result"
    }
   ],
   "source": [
    "# Checking the number of mice in the clean DataFrame\n",
    "\n",
    "clean_df_mouse_number = clean_mouse_df['Mouse ID'].nunique()\n",
    "clean_df_mouse_number"
   ]
  },
  {
   "cell_type": "code",
   "execution_count": 7,
   "metadata": {},
   "outputs": [
    {
     "data": {
      "text/html": [
       "<div>\n",
       "<style scoped>\n",
       "    .dataframe tbody tr th:only-of-type {\n",
       "        vertical-align: middle;\n",
       "    }\n",
       "\n",
       "    .dataframe tbody tr th {\n",
       "        vertical-align: top;\n",
       "    }\n",
       "\n",
       "    .dataframe thead th {\n",
       "        text-align: right;\n",
       "    }\n",
       "</style>\n",
       "<table border=\"1\" class=\"dataframe\">\n",
       "  <thead>\n",
       "    <tr style=\"text-align: right;\">\n",
       "      <th></th>\n",
       "      <th>Mouse ID</th>\n",
       "      <th>Drug Regimen</th>\n",
       "      <th>Sex</th>\n",
       "      <th>Age_months</th>\n",
       "      <th>Weight (g)</th>\n",
       "      <th>Timepoint</th>\n",
       "      <th>Tumor Volume (mm3)</th>\n",
       "      <th>Metastatic Sites</th>\n",
       "    </tr>\n",
       "  </thead>\n",
       "  <tbody>\n",
       "    <tr>\n",
       "      <th>0</th>\n",
       "      <td>k403</td>\n",
       "      <td>Ramicane</td>\n",
       "      <td>Male</td>\n",
       "      <td>21</td>\n",
       "      <td>16</td>\n",
       "      <td>0</td>\n",
       "      <td>45.000000</td>\n",
       "      <td>0</td>\n",
       "    </tr>\n",
       "    <tr>\n",
       "      <th>1</th>\n",
       "      <td>k403</td>\n",
       "      <td>Ramicane</td>\n",
       "      <td>Male</td>\n",
       "      <td>21</td>\n",
       "      <td>16</td>\n",
       "      <td>5</td>\n",
       "      <td>38.825898</td>\n",
       "      <td>0</td>\n",
       "    </tr>\n",
       "    <tr>\n",
       "      <th>2</th>\n",
       "      <td>k403</td>\n",
       "      <td>Ramicane</td>\n",
       "      <td>Male</td>\n",
       "      <td>21</td>\n",
       "      <td>16</td>\n",
       "      <td>10</td>\n",
       "      <td>35.014271</td>\n",
       "      <td>1</td>\n",
       "    </tr>\n",
       "    <tr>\n",
       "      <th>3</th>\n",
       "      <td>k403</td>\n",
       "      <td>Ramicane</td>\n",
       "      <td>Male</td>\n",
       "      <td>21</td>\n",
       "      <td>16</td>\n",
       "      <td>15</td>\n",
       "      <td>34.223992</td>\n",
       "      <td>1</td>\n",
       "    </tr>\n",
       "    <tr>\n",
       "      <th>4</th>\n",
       "      <td>k403</td>\n",
       "      <td>Ramicane</td>\n",
       "      <td>Male</td>\n",
       "      <td>21</td>\n",
       "      <td>16</td>\n",
       "      <td>20</td>\n",
       "      <td>32.997729</td>\n",
       "      <td>1</td>\n",
       "    </tr>\n",
       "  </tbody>\n",
       "</table>\n",
       "</div>"
      ],
      "text/plain": [
       "  Mouse ID Drug Regimen   Sex  Age_months  Weight (g)  Timepoint  \\\n",
       "0     k403     Ramicane  Male          21          16          0   \n",
       "1     k403     Ramicane  Male          21          16          5   \n",
       "2     k403     Ramicane  Male          21          16         10   \n",
       "3     k403     Ramicane  Male          21          16         15   \n",
       "4     k403     Ramicane  Male          21          16         20   \n",
       "\n",
       "   Tumor Volume (mm3)  Metastatic Sites  \n",
       "0           45.000000                 0  \n",
       "1           38.825898                 0  \n",
       "2           35.014271                 1  \n",
       "3           34.223992                 1  \n",
       "4           32.997729                 1  "
      ]
     },
     "execution_count": 7,
     "metadata": {},
     "output_type": "execute_result"
    }
   ],
   "source": [
    "clean_mouse_df.head()"
   ]
  },
  {
   "cell_type": "markdown",
   "metadata": {},
   "source": [
    "## Summary Statistics"
   ]
  },
  {
   "cell_type": "code",
   "execution_count": 8,
   "metadata": {},
   "outputs": [],
   "source": [
    "# Generate a summary statistics table of mean, median, variance, standard deviation, and SEM of the tumor volume for each regimen\n",
    "\n",
    "# This method is the most straighforward, creating multiple series and putting them all together at the end.\n",
    "\n",
    "drugs_mean = clean_mouse_df.groupby(\"Drug Regimen\")[\"Tumor Volume (mm3)\"].mean()\n",
    "drugs_median = clean_mouse_df.groupby(\"Drug Regimen\")[\"Tumor Volume (mm3)\"].median()\n",
    "drugs_variance = clean_mouse_df.groupby(\"Drug Regimen\")[\"Tumor Volume (mm3)\"].var()\n",
    "drugs_standarddeviation = clean_mouse_df.groupby(\"Drug Regimen\")[\"Tumor Volume (mm3)\"].std()\n",
    "drugs_sem = clean_mouse_df.groupby(\"Drug Regimen\")[\"Tumor Volume (mm3)\"].sem()"
   ]
  },
  {
   "cell_type": "code",
   "execution_count": 9,
   "metadata": {},
   "outputs": [
    {
     "data": {
      "text/html": [
       "<div>\n",
       "<style scoped>\n",
       "    .dataframe tbody tr th:only-of-type {\n",
       "        vertical-align: middle;\n",
       "    }\n",
       "\n",
       "    .dataframe tbody tr th {\n",
       "        vertical-align: top;\n",
       "    }\n",
       "\n",
       "    .dataframe thead th {\n",
       "        text-align: right;\n",
       "    }\n",
       "</style>\n",
       "<table border=\"1\" class=\"dataframe\">\n",
       "  <thead>\n",
       "    <tr style=\"text-align: right;\">\n",
       "      <th></th>\n",
       "      <th>Mean</th>\n",
       "      <th>Median</th>\n",
       "      <th>Variance</th>\n",
       "      <th>STD</th>\n",
       "      <th>SEM</th>\n",
       "    </tr>\n",
       "    <tr>\n",
       "      <th>Drug Regimen</th>\n",
       "      <th></th>\n",
       "      <th></th>\n",
       "      <th></th>\n",
       "      <th></th>\n",
       "      <th></th>\n",
       "    </tr>\n",
       "  </thead>\n",
       "  <tbody>\n",
       "    <tr>\n",
       "      <th>Capomulin</th>\n",
       "      <td>40.675741</td>\n",
       "      <td>41.557809</td>\n",
       "      <td>24.947764</td>\n",
       "      <td>4.994774</td>\n",
       "      <td>0.329346</td>\n",
       "    </tr>\n",
       "    <tr>\n",
       "      <th>Ceftamin</th>\n",
       "      <td>52.591172</td>\n",
       "      <td>51.776157</td>\n",
       "      <td>39.290177</td>\n",
       "      <td>6.268188</td>\n",
       "      <td>0.469821</td>\n",
       "    </tr>\n",
       "    <tr>\n",
       "      <th>Infubinol</th>\n",
       "      <td>52.884795</td>\n",
       "      <td>51.820584</td>\n",
       "      <td>43.128684</td>\n",
       "      <td>6.567243</td>\n",
       "      <td>0.492236</td>\n",
       "    </tr>\n",
       "    <tr>\n",
       "      <th>Ketapril</th>\n",
       "      <td>55.235638</td>\n",
       "      <td>53.698743</td>\n",
       "      <td>68.553577</td>\n",
       "      <td>8.279709</td>\n",
       "      <td>0.603860</td>\n",
       "    </tr>\n",
       "    <tr>\n",
       "      <th>Naftisol</th>\n",
       "      <td>54.331565</td>\n",
       "      <td>52.509285</td>\n",
       "      <td>66.173479</td>\n",
       "      <td>8.134708</td>\n",
       "      <td>0.596466</td>\n",
       "    </tr>\n",
       "    <tr>\n",
       "      <th>Placebo</th>\n",
       "      <td>54.033581</td>\n",
       "      <td>52.288934</td>\n",
       "      <td>61.168083</td>\n",
       "      <td>7.821003</td>\n",
       "      <td>0.581331</td>\n",
       "    </tr>\n",
       "    <tr>\n",
       "      <th>Propriva</th>\n",
       "      <td>52.320930</td>\n",
       "      <td>50.446266</td>\n",
       "      <td>43.852013</td>\n",
       "      <td>6.622085</td>\n",
       "      <td>0.544332</td>\n",
       "    </tr>\n",
       "    <tr>\n",
       "      <th>Ramicane</th>\n",
       "      <td>40.216745</td>\n",
       "      <td>40.673236</td>\n",
       "      <td>23.486704</td>\n",
       "      <td>4.846308</td>\n",
       "      <td>0.320955</td>\n",
       "    </tr>\n",
       "    <tr>\n",
       "      <th>Stelasyn</th>\n",
       "      <td>54.233149</td>\n",
       "      <td>52.431737</td>\n",
       "      <td>59.450562</td>\n",
       "      <td>7.710419</td>\n",
       "      <td>0.573111</td>\n",
       "    </tr>\n",
       "    <tr>\n",
       "      <th>Zoniferol</th>\n",
       "      <td>53.236507</td>\n",
       "      <td>51.818479</td>\n",
       "      <td>48.533355</td>\n",
       "      <td>6.966589</td>\n",
       "      <td>0.516398</td>\n",
       "    </tr>\n",
       "  </tbody>\n",
       "</table>\n",
       "</div>"
      ],
      "text/plain": [
       "                   Mean     Median   Variance       STD       SEM\n",
       "Drug Regimen                                                     \n",
       "Capomulin     40.675741  41.557809  24.947764  4.994774  0.329346\n",
       "Ceftamin      52.591172  51.776157  39.290177  6.268188  0.469821\n",
       "Infubinol     52.884795  51.820584  43.128684  6.567243  0.492236\n",
       "Ketapril      55.235638  53.698743  68.553577  8.279709  0.603860\n",
       "Naftisol      54.331565  52.509285  66.173479  8.134708  0.596466\n",
       "Placebo       54.033581  52.288934  61.168083  7.821003  0.581331\n",
       "Propriva      52.320930  50.446266  43.852013  6.622085  0.544332\n",
       "Ramicane      40.216745  40.673236  23.486704  4.846308  0.320955\n",
       "Stelasyn      54.233149  52.431737  59.450562  7.710419  0.573111\n",
       "Zoniferol     53.236507  51.818479  48.533355  6.966589  0.516398"
      ]
     },
     "execution_count": 9,
     "metadata": {},
     "output_type": "execute_result"
    }
   ],
   "source": [
    "# Generate a summary statistics table of mean, median, variance, standard deviation, and SEM of the tumor volume for each regimen\n",
    "\n",
    "# This method produces everything in a single groupby function\n",
    "\n",
    "drugs_table = pd.DataFrame({\"Mean\": drugs_mean, \"Median\": drugs_median, \"Variance\": drugs_variance, \"STD\": drugs_standarddeviation, \"SEM\": drugs_sem})\n",
    "drugs_table"
   ]
  },
  {
   "cell_type": "markdown",
   "metadata": {},
   "source": [
    "## Bar and Pie Charts"
   ]
  },
  {
   "cell_type": "code",
   "execution_count": 10,
   "metadata": {},
   "outputs": [
    {
     "data": {
      "text/plain": [
       "Text(0, 0.5, 'Mouse Count')"
      ]
     },
     "execution_count": 10,
     "metadata": {},
     "output_type": "execute_result"
    },
    {
     "data": {
      "image/png": "[encoded data removed]",
      "text/plain": [
       "<Figure size 432x288 with 1 Axes>"
      ]
     },
     "metadata": {
      "needs_background": "light"
     },
     "output_type": "display_data"
    }
   ],
   "source": [
    "# Generate a bar plot showing the total number of mice for each treatment throughout the course of the study using pandas. \n",
    "\n",
    "mice_treatment_count = clean_mouse_df.groupby(\"Drug Regimen\")[\"Mouse ID\"].count()\n",
    "\n",
    "pandas_plot = mice_treatment_count.plot.bar()\n",
    "\n",
    "plt.title(\"Number of Mice Per Drug Treament\")\n",
    "plt.xlabel(\"Drugs\")\n",
    "plt.ylabel(\"Mouse Count\")"
   ]
  },
  {
   "cell_type": "code",
   "execution_count": 11,
   "metadata": {},
   "outputs": [
    {
     "data": {
      "text/plain": [
       "Text(0, 0.5, 'Mouse Count')"
      ]
     },
     "execution_count": 11,
     "metadata": {},
     "output_type": "execute_result"
    },
    {
     "data": {
      "image/png": "[encoded data removed]",
      "text/plain": [
       "<Figure size 432x288 with 1 Axes>"
      ]
     },
     "metadata": {
      "needs_background": "light"
     },
     "output_type": "display_data"
    }
   ],
   "source": [
    "# Generate a bar plot showing the total number of mice for each treatment throughout the course of the study using pyplot.\n",
    "\n",
    "x_axis = np.arange(len(mice_treatment_count))\n",
    "plt.bar(x_axis, mice_treatment_count, color='r', alpha=0.5, align=\"center\")\n",
    "\n",
    "tick_locations = [value for value in x_axis]\n",
    "plt.xticks(tick_locations, [\"Capomulin\", \"Ceftamin\", \"Infubinol\", \"Ketapril\", \"Naftisol\", \"Placebo\", \"Propriva\", \"Ramicane\", \"Stelasyn\", \"Zoniferol\"], rotation = 'vertical')\n",
    "\n",
    "plt.title(\"Number of Mice Per Drug Treament\")\n",
    "plt.xlabel(\"Drugs\")\n",
    "plt.ylabel(\"Mouse Count\")"
   ]
  },
  {
   "cell_type": "code",
   "execution_count": 12,
   "metadata": {},
   "outputs": [
    {
     "data": {
      "text/html": [
       "<div>\n",
       "<style scoped>\n",
       "    .dataframe tbody tr th:only-of-type {\n",
       "        vertical-align: middle;\n",
       "    }\n",
       "\n",
       "    .dataframe tbody tr th {\n",
       "        vertical-align: top;\n",
       "    }\n",
       "\n",
       "    .dataframe thead th {\n",
       "        text-align: right;\n",
       "    }\n",
       "</style>\n",
       "<table border=\"1\" class=\"dataframe\">\n",
       "  <thead>\n",
       "    <tr style=\"text-align: right;\">\n",
       "      <th></th>\n",
       "      <th>Mouse ID</th>\n",
       "      <th>Drug Regimen</th>\n",
       "      <th>Age_months</th>\n",
       "      <th>Weight (g)</th>\n",
       "      <th>Timepoint</th>\n",
       "      <th>Tumor Volume (mm3)</th>\n",
       "      <th>Metastatic Sites</th>\n",
       "    </tr>\n",
       "    <tr>\n",
       "      <th>Sex</th>\n",
       "      <th></th>\n",
       "      <th></th>\n",
       "      <th></th>\n",
       "      <th></th>\n",
       "      <th></th>\n",
       "      <th></th>\n",
       "      <th></th>\n",
       "    </tr>\n",
       "  </thead>\n",
       "  <tbody>\n",
       "    <tr>\n",
       "      <th>Female</th>\n",
       "      <td>922</td>\n",
       "      <td>922</td>\n",
       "      <td>922</td>\n",
       "      <td>922</td>\n",
       "      <td>922</td>\n",
       "      <td>922</td>\n",
       "      <td>922</td>\n",
       "    </tr>\n",
       "    <tr>\n",
       "      <th>Male</th>\n",
       "      <td>958</td>\n",
       "      <td>958</td>\n",
       "      <td>958</td>\n",
       "      <td>958</td>\n",
       "      <td>958</td>\n",
       "      <td>958</td>\n",
       "      <td>958</td>\n",
       "    </tr>\n",
       "  </tbody>\n",
       "</table>\n",
       "</div>"
      ],
      "text/plain": [
       "        Mouse ID  Drug Regimen  Age_months  Weight (g)  Timepoint  \\\n",
       "Sex                                                                 \n",
       "Female       922           922         922         922        922   \n",
       "Male         958           958         958         958        958   \n",
       "\n",
       "        Tumor Volume (mm3)  Metastatic Sites  \n",
       "Sex                                           \n",
       "Female                 922               922  \n",
       "Male                   958               958  "
      ]
     },
     "execution_count": 12,
     "metadata": {},
     "output_type": "execute_result"
    }
   ],
   "source": [
    "# Generate a pie plot showing the distribution of female versus male mice using pandas\n",
    "\n",
    "Mouse_Gender_df = clean_mouse_df.groupby([\"Sex\"]).count()\n",
    "Mouse_Gender_df"
   ]
  },
  {
   "cell_type": "code",
   "execution_count": 13,
   "metadata": {},
   "outputs": [
    {
     "data": {
      "text/plain": [
       "922"
      ]
     },
     "execution_count": 13,
     "metadata": {},
     "output_type": "execute_result"
    }
   ],
   "source": [
    "female_mouse_count = Mouse_Gender_df.loc[\"Female\", \"Mouse ID\"].sum()\n",
    "female_mouse_count"
   ]
  },
  {
   "cell_type": "code",
   "execution_count": 14,
   "metadata": {},
   "outputs": [
    {
     "data": {
      "text/plain": [
       "958"
      ]
     },
     "execution_count": 14,
     "metadata": {},
     "output_type": "execute_result"
    }
   ],
   "source": [
    "male_mouse_count = Mouse_Gender_df.loc[\"Male\", \"Mouse ID\"].sum()\n",
    "male_mouse_count"
   ]
  },
  {
   "cell_type": "code",
   "execution_count": 15,
   "metadata": {},
   "outputs": [
    {
     "data": {
      "text/plain": [
       "1880"
      ]
     },
     "execution_count": 15,
     "metadata": {},
     "output_type": "execute_result"
    }
   ],
   "source": [
    "total_mouse_count = female_mouse_count+male_mouse_count\n",
    "total_mouse_count"
   ]
  },
  {
   "cell_type": "code",
   "execution_count": 16,
   "metadata": {},
   "outputs": [
    {
     "data": {
      "text/plain": [
       "50.95744680851064"
      ]
     },
     "execution_count": 16,
     "metadata": {},
     "output_type": "execute_result"
    }
   ],
   "source": [
    "male_mouse_percentage = (male_mouse_count/total_mouse_count)*100\n",
    "male_mouse_percentage"
   ]
  },
  {
   "cell_type": "code",
   "execution_count": 17,
   "metadata": {},
   "outputs": [
    {
     "data": {
      "text/plain": [
       "49.04255319148936"
      ]
     },
     "execution_count": 17,
     "metadata": {},
     "output_type": "execute_result"
    }
   ],
   "source": [
    "female_mouse_percentage = (female_mouse_count/total_mouse_count)*100\n",
    "female_mouse_percentage"
   ]
  },
  {
   "cell_type": "code",
   "execution_count": 18,
   "metadata": {},
   "outputs": [
    {
     "data": {
      "text/html": [
       "<div>\n",
       "<style scoped>\n",
       "    .dataframe tbody tr th:only-of-type {\n",
       "        vertical-align: middle;\n",
       "    }\n",
       "\n",
       "    .dataframe tbody tr th {\n",
       "        vertical-align: top;\n",
       "    }\n",
       "\n",
       "    .dataframe thead th {\n",
       "        text-align: right;\n",
       "    }\n",
       "</style>\n",
       "<table border=\"1\" class=\"dataframe\">\n",
       "  <thead>\n",
       "    <tr style=\"text-align: right;\">\n",
       "      <th></th>\n",
       "      <th>Male/Female</th>\n",
       "    </tr>\n",
       "  </thead>\n",
       "  <tbody>\n",
       "    <tr>\n",
       "      <th>0</th>\n",
       "      <td>50.957447</td>\n",
       "    </tr>\n",
       "    <tr>\n",
       "      <th>1</th>\n",
       "      <td>49.042553</td>\n",
       "    </tr>\n",
       "  </tbody>\n",
       "</table>\n",
       "</div>"
      ],
      "text/plain": [
       "   Male/Female\n",
       "0    50.957447\n",
       "1    49.042553"
      ]
     },
     "execution_count": 18,
     "metadata": {},
     "output_type": "execute_result"
    }
   ],
   "source": [
    "mouse_percentage_df = pd.DataFrame({\"Male/Female\": [male_mouse_percentage, female_mouse_percentage]})\n",
    "mouse_percentage_df"
   ]
  },
  {
   "cell_type": "code",
   "execution_count": 20,
   "metadata": {},
   "outputs": [
    {
     "data": {
      "image/png": "[encoded data removed]",
      "text/plain": [
       "<Figure size 1080x720 with 1 Axes>"
      ]
     },
     "metadata": {},
     "output_type": "display_data"
    }
   ],
   "source": [
    "# Generate a pie plot showing the distribution of female versus male mice using pandas\n",
    "\n",
    "pie_plot = mouse_percentage_df.plot.pie(y='Male/Female',figsize=(15,10), shadow = True, autopct=\"%1.1f%%\")\n",
    "\n",
    "plt.show()\n"
   ]
  },
  {
   "cell_type": "code",
   "execution_count": null,
   "metadata": {},
   "outputs": [],
   "source": [
    "# Generate a pie plot showing the distribution of female versus male mice using pyplot\n",
    "\n",
    "values = [male_mouse_percentage, female_mouse_percentage]\n",
    "\n",
    "fig1, ax1 = plt.subplots(figsize=(15, 10))\n",
    "plt.pie(values, autopct=\"%1.1f%%\", shadow=True, startangle=140,)\n",
    "plt.ylabel('Sex',fontsize = 14)"
   ]
  },
  {
   "cell_type": "markdown",
   "metadata": {},
   "source": [
    "## Quartiles, Outliers and Boxplots"
   ]
  },
  {
   "cell_type": "code",
   "execution_count": 21,
   "metadata": {},
   "outputs": [
    {
     "data": {
      "text/html": [
       "<div>\n",
       "<style scoped>\n",
       "    .dataframe tbody tr th:only-of-type {\n",
       "        vertical-align: middle;\n",
       "    }\n",
       "\n",
       "    .dataframe tbody tr th {\n",
       "        vertical-align: top;\n",
       "    }\n",
       "\n",
       "    .dataframe thead th {\n",
       "        text-align: right;\n",
       "    }\n",
       "</style>\n",
       "<table border=\"1\" class=\"dataframe\">\n",
       "  <thead>\n",
       "    <tr style=\"text-align: right;\">\n",
       "      <th></th>\n",
       "      <th>Mouse ID</th>\n",
       "      <th>Sex</th>\n",
       "      <th>Age_months</th>\n",
       "      <th>Weight (g)</th>\n",
       "      <th>Timepoint</th>\n",
       "      <th>Tumor Volume (mm3)</th>\n",
       "      <th>Metastatic Sites</th>\n",
       "    </tr>\n",
       "    <tr>\n",
       "      <th>Drug Regimen</th>\n",
       "      <th></th>\n",
       "      <th></th>\n",
       "      <th></th>\n",
       "      <th></th>\n",
       "      <th></th>\n",
       "      <th></th>\n",
       "      <th></th>\n",
       "    </tr>\n",
       "  </thead>\n",
       "  <tbody>\n",
       "    <tr>\n",
       "      <th>Capomulin</th>\n",
       "      <td>230</td>\n",
       "      <td>230</td>\n",
       "      <td>230</td>\n",
       "      <td>230</td>\n",
       "      <td>230</td>\n",
       "      <td>230</td>\n",
       "      <td>230</td>\n",
       "    </tr>\n",
       "    <tr>\n",
       "      <th>Ceftamin</th>\n",
       "      <td>178</td>\n",
       "      <td>178</td>\n",
       "      <td>178</td>\n",
       "      <td>178</td>\n",
       "      <td>178</td>\n",
       "      <td>178</td>\n",
       "      <td>178</td>\n",
       "    </tr>\n",
       "    <tr>\n",
       "      <th>Infubinol</th>\n",
       "      <td>178</td>\n",
       "      <td>178</td>\n",
       "      <td>178</td>\n",
       "      <td>178</td>\n",
       "      <td>178</td>\n",
       "      <td>178</td>\n",
       "      <td>178</td>\n",
       "    </tr>\n",
       "    <tr>\n",
       "      <th>Ketapril</th>\n",
       "      <td>188</td>\n",
       "      <td>188</td>\n",
       "      <td>188</td>\n",
       "      <td>188</td>\n",
       "      <td>188</td>\n",
       "      <td>188</td>\n",
       "      <td>188</td>\n",
       "    </tr>\n",
       "    <tr>\n",
       "      <th>Naftisol</th>\n",
       "      <td>186</td>\n",
       "      <td>186</td>\n",
       "      <td>186</td>\n",
       "      <td>186</td>\n",
       "      <td>186</td>\n",
       "      <td>186</td>\n",
       "      <td>186</td>\n",
       "    </tr>\n",
       "    <tr>\n",
       "      <th>Placebo</th>\n",
       "      <td>181</td>\n",
       "      <td>181</td>\n",
       "      <td>181</td>\n",
       "      <td>181</td>\n",
       "      <td>181</td>\n",
       "      <td>181</td>\n",
       "      <td>181</td>\n",
       "    </tr>\n",
       "    <tr>\n",
       "      <th>Propriva</th>\n",
       "      <td>148</td>\n",
       "      <td>148</td>\n",
       "      <td>148</td>\n",
       "      <td>148</td>\n",
       "      <td>148</td>\n",
       "      <td>148</td>\n",
       "      <td>148</td>\n",
       "    </tr>\n",
       "    <tr>\n",
       "      <th>Ramicane</th>\n",
       "      <td>228</td>\n",
       "      <td>228</td>\n",
       "      <td>228</td>\n",
       "      <td>228</td>\n",
       "      <td>228</td>\n",
       "      <td>228</td>\n",
       "      <td>228</td>\n",
       "    </tr>\n",
       "    <tr>\n",
       "      <th>Stelasyn</th>\n",
       "      <td>181</td>\n",
       "      <td>181</td>\n",
       "      <td>181</td>\n",
       "      <td>181</td>\n",
       "      <td>181</td>\n",
       "      <td>181</td>\n",
       "      <td>181</td>\n",
       "    </tr>\n",
       "    <tr>\n",
       "      <th>Zoniferol</th>\n",
       "      <td>182</td>\n",
       "      <td>182</td>\n",
       "      <td>182</td>\n",
       "      <td>182</td>\n",
       "      <td>182</td>\n",
       "      <td>182</td>\n",
       "      <td>182</td>\n",
       "    </tr>\n",
       "  </tbody>\n",
       "</table>\n",
       "</div>"
      ],
      "text/plain": [
       "              Mouse ID  Sex  Age_months  Weight (g)  Timepoint  \\\n",
       "Drug Regimen                                                     \n",
       "Capomulin          230  230         230         230        230   \n",
       "Ceftamin           178  178         178         178        178   \n",
       "Infubinol          178  178         178         178        178   \n",
       "Ketapril           188  188         188         188        188   \n",
       "Naftisol           186  186         186         186        186   \n",
       "Placebo            181  181         181         181        181   \n",
       "Propriva           148  148         148         148        148   \n",
       "Ramicane           228  228         228         228        228   \n",
       "Stelasyn           181  181         181         181        181   \n",
       "Zoniferol          182  182         182         182        182   \n",
       "\n",
       "              Tumor Volume (mm3)  Metastatic Sites  \n",
       "Drug Regimen                                        \n",
       "Capomulin                    230               230  \n",
       "Ceftamin                     178               178  \n",
       "Infubinol                    178               178  \n",
       "Ketapril                     188               188  \n",
       "Naftisol                     186               186  \n",
       "Placebo                      181               181  \n",
       "Propriva                     148               148  \n",
       "Ramicane                     228               228  \n",
       "Stelasyn                     181               181  \n",
       "Zoniferol                    182               182  "
      ]
     },
     "execution_count": 21,
     "metadata": {},
     "output_type": "execute_result"
    }
   ],
   "source": [
    "# Calculate the final tumor volume of each mouse across four of the treatment regimens:  \n",
    "# Capomulin, Ramicane, Infubinol, and Ceftamin\n",
    "# Start by getting the last (greatest) timepoint for each mouse\n",
    "# Merge this group df with the original dataframe to get the tumor volume at the last timepoint\n",
    "\n",
    "clean_mouse_df.groupby([\"Drug Regimen\"]).count()"
   ]
  },
  {
   "cell_type": "code",
   "execution_count": 46,
   "metadata": {},
   "outputs": [],
   "source": [
    "#Group by relevant treatments\n",
    "capomulin = clean_mouse_df.loc[clean_mouse_df[\"Drug Regimen\"] == \"Capomulin\",:]\n",
    "ramicane = clean_mouse_df.loc[clean_mouse_df[\"Drug Regimen\"] == \"Ramicane\",:]\n",
    "infubinol = clean_mouse_df.loc[clean_mouse_df[\"Drug Regimen\"] == \"Infubinol\",:]\n",
    "ceftamin = clean_mouse_df.loc[clean_mouse_df[\"Drug Regimen\"] == \"Ceftamin\",:]"
   ]
  },
  {
   "cell_type": "code",
   "execution_count": null,
   "metadata": {},
   "outputs": [],
   "source": []
  },
  {
   "cell_type": "code",
   "execution_count": null,
   "metadata": {},
   "outputs": [],
   "source": [
    "# Put treatments into a list for for loop (and later for plot labels)\n",
    "\n",
    "\n",
    "# Create empty list to fill with tumor vol data (for plotting)\n",
    "\n",
    "\n",
    "# Calculate the IQR and quantitatively determine if there are any potential outliers. \n",
    "\n",
    "    \n",
    "    # Locate the rows which contain mice on each drug and get the tumor volumes\n",
    "    \n",
    "    \n",
    "    # add subset \n",
    "    \n",
    "    \n",
    "    # Determine outliers using upper and lower bounds"
   ]
  },
  {
   "cell_type": "code",
   "execution_count": 23,
   "metadata": {},
   "outputs": [
    {
     "data": {
      "text/html": [
       "<div>\n",
       "<style scoped>\n",
       "    .dataframe tbody tr th:only-of-type {\n",
       "        vertical-align: middle;\n",
       "    }\n",
       "\n",
       "    .dataframe tbody tr th {\n",
       "        vertical-align: top;\n",
       "    }\n",
       "\n",
       "    .dataframe thead th {\n",
       "        text-align: right;\n",
       "    }\n",
       "</style>\n",
       "<table border=\"1\" class=\"dataframe\">\n",
       "  <thead>\n",
       "    <tr style=\"text-align: right;\">\n",
       "      <th></th>\n",
       "      <th>Mouse ID</th>\n",
       "      <th>Timepoint</th>\n",
       "      <th>Drug Regimen</th>\n",
       "      <th>Sex</th>\n",
       "      <th>Age_months</th>\n",
       "      <th>Weight (g)</th>\n",
       "      <th>Tumor Volume (mm3)</th>\n",
       "      <th>Metastatic Sites</th>\n",
       "    </tr>\n",
       "  </thead>\n",
       "  <tbody>\n",
       "    <tr>\n",
       "      <th>0</th>\n",
       "      <td>b128</td>\n",
       "      <td>45</td>\n",
       "      <td>Capomulin</td>\n",
       "      <td>Female</td>\n",
       "      <td>9</td>\n",
       "      <td>22</td>\n",
       "      <td>38.982878</td>\n",
       "      <td>2</td>\n",
       "    </tr>\n",
       "    <tr>\n",
       "      <th>1</th>\n",
       "      <td>b742</td>\n",
       "      <td>45</td>\n",
       "      <td>Capomulin</td>\n",
       "      <td>Male</td>\n",
       "      <td>7</td>\n",
       "      <td>21</td>\n",
       "      <td>38.939633</td>\n",
       "      <td>0</td>\n",
       "    </tr>\n",
       "    <tr>\n",
       "      <th>2</th>\n",
       "      <td>f966</td>\n",
       "      <td>20</td>\n",
       "      <td>Capomulin</td>\n",
       "      <td>Male</td>\n",
       "      <td>16</td>\n",
       "      <td>17</td>\n",
       "      <td>30.485985</td>\n",
       "      <td>0</td>\n",
       "    </tr>\n",
       "    <tr>\n",
       "      <th>3</th>\n",
       "      <td>g288</td>\n",
       "      <td>45</td>\n",
       "      <td>Capomulin</td>\n",
       "      <td>Male</td>\n",
       "      <td>3</td>\n",
       "      <td>19</td>\n",
       "      <td>37.074024</td>\n",
       "      <td>1</td>\n",
       "    </tr>\n",
       "    <tr>\n",
       "      <th>4</th>\n",
       "      <td>g316</td>\n",
       "      <td>45</td>\n",
       "      <td>Capomulin</td>\n",
       "      <td>Female</td>\n",
       "      <td>22</td>\n",
       "      <td>22</td>\n",
       "      <td>40.159220</td>\n",
       "      <td>2</td>\n",
       "    </tr>\n",
       "  </tbody>\n",
       "</table>\n",
       "</div>"
      ],
      "text/plain": [
       "  Mouse ID  Timepoint Drug Regimen     Sex  Age_months  Weight (g)  \\\n",
       "0     b128         45    Capomulin  Female           9          22   \n",
       "1     b742         45    Capomulin    Male           7          21   \n",
       "2     f966         20    Capomulin    Male          16          17   \n",
       "3     g288         45    Capomulin    Male           3          19   \n",
       "4     g316         45    Capomulin  Female          22          22   \n",
       "\n",
       "   Tumor Volume (mm3)  Metastatic Sites  \n",
       "0           38.982878                 2  \n",
       "1           38.939633                 0  \n",
       "2           30.485985                 0  \n",
       "3           37.074024                 1  \n",
       "4           40.159220                 2  "
      ]
     },
     "execution_count": 23,
     "metadata": {},
     "output_type": "execute_result"
    }
   ],
   "source": [
    "capomulin_timepoint = capomulin.groupby('Mouse ID')['Timepoint'].max()\n",
    "capomulin_tvol = pd.DataFrame(capomulin_timepoint)\n",
    "capomulin_merged = pd.merge(capomulin_tvol, clean_mouse_df, on=(\"Mouse ID\",\"Timepoint\"),how=\"left\")\n",
    "capomulin_merged.head()"
   ]
  },
  {
   "cell_type": "code",
   "execution_count": 27,
   "metadata": {},
   "outputs": [
    {
     "name": "stdout",
     "output_type": "stream",
     "text": [
      "The lower quartile of Capomulin tumors: 32.37735684\n",
      "The upper quartile of Capomulin tumors: 40.1592203\n",
      "The interquartile range of Capomulin tumors: 7.781863460000004\n",
      "Values below 20.70456164999999 are likley to be outliers.\n",
      "Values above 51.83201549 are likley to be outliers.\n"
     ]
    }
   ],
   "source": [
    "capomulin_tumor_data = capomulin_merged[\"Tumor Volume (mm3)\"]\n",
    "\n",
    "quartiles = capomulin_tumor_data.quantile([.25,.5,.75])\n",
    "lower_quartile = quartiles[0.25]\n",
    "upper_quartile = quartiles[0.75]\n",
    "inter_quartile_range = upper_quartile-lower_quartile\n",
    "\n",
    "lower_bound = lower_quartile - (1.5*inter_quartile_range)\n",
    "upper_bound = upper_quartile + (1.5*inter_quartile_range)\n",
    "\n",
    "print(f\"The lower quartile of Capomulin tumors: {lower_quartile}\")\n",
    "print(f\"The upper quartile of Capomulin tumors: {upper_quartile}\")\n",
    "print(f\"The interquartile range of Capomulin tumors: {inter_quartile_range}\")\n",
    "\n",
    "\n",
    "print(f\"Values below {lower_bound} are likley to be outliers.\")\n",
    "print(f\"Values above {upper_bound} are likley to be outliers.\")"
   ]
  },
  {
   "cell_type": "code",
   "execution_count": 25,
   "metadata": {},
   "outputs": [
    {
     "data": {
      "text/html": [
       "<div>\n",
       "<style scoped>\n",
       "    .dataframe tbody tr th:only-of-type {\n",
       "        vertical-align: middle;\n",
       "    }\n",
       "\n",
       "    .dataframe tbody tr th {\n",
       "        vertical-align: top;\n",
       "    }\n",
       "\n",
       "    .dataframe thead th {\n",
       "        text-align: right;\n",
       "    }\n",
       "</style>\n",
       "<table border=\"1\" class=\"dataframe\">\n",
       "  <thead>\n",
       "    <tr style=\"text-align: right;\">\n",
       "      <th></th>\n",
       "      <th>Mouse ID</th>\n",
       "      <th>Timepoint</th>\n",
       "      <th>Drug Regimen</th>\n",
       "      <th>Sex</th>\n",
       "      <th>Age_months</th>\n",
       "      <th>Weight (g)</th>\n",
       "      <th>Tumor Volume (mm3)</th>\n",
       "      <th>Metastatic Sites</th>\n",
       "    </tr>\n",
       "  </thead>\n",
       "  <tbody>\n",
       "    <tr>\n",
       "      <th>0</th>\n",
       "      <td>a411</td>\n",
       "      <td>45</td>\n",
       "      <td>Ramicane</td>\n",
       "      <td>Male</td>\n",
       "      <td>3</td>\n",
       "      <td>22</td>\n",
       "      <td>38.407618</td>\n",
       "      <td>1</td>\n",
       "    </tr>\n",
       "    <tr>\n",
       "      <th>1</th>\n",
       "      <td>a444</td>\n",
       "      <td>45</td>\n",
       "      <td>Ramicane</td>\n",
       "      <td>Female</td>\n",
       "      <td>10</td>\n",
       "      <td>25</td>\n",
       "      <td>43.047543</td>\n",
       "      <td>0</td>\n",
       "    </tr>\n",
       "    <tr>\n",
       "      <th>2</th>\n",
       "      <td>a520</td>\n",
       "      <td>45</td>\n",
       "      <td>Ramicane</td>\n",
       "      <td>Male</td>\n",
       "      <td>13</td>\n",
       "      <td>21</td>\n",
       "      <td>38.810366</td>\n",
       "      <td>1</td>\n",
       "    </tr>\n",
       "    <tr>\n",
       "      <th>3</th>\n",
       "      <td>a644</td>\n",
       "      <td>45</td>\n",
       "      <td>Ramicane</td>\n",
       "      <td>Female</td>\n",
       "      <td>7</td>\n",
       "      <td>17</td>\n",
       "      <td>32.978522</td>\n",
       "      <td>1</td>\n",
       "    </tr>\n",
       "    <tr>\n",
       "      <th>4</th>\n",
       "      <td>c458</td>\n",
       "      <td>30</td>\n",
       "      <td>Ramicane</td>\n",
       "      <td>Female</td>\n",
       "      <td>23</td>\n",
       "      <td>20</td>\n",
       "      <td>38.342008</td>\n",
       "      <td>2</td>\n",
       "    </tr>\n",
       "  </tbody>\n",
       "</table>\n",
       "</div>"
      ],
      "text/plain": [
       "  Mouse ID  Timepoint Drug Regimen     Sex  Age_months  Weight (g)  \\\n",
       "0     a411         45     Ramicane    Male           3          22   \n",
       "1     a444         45     Ramicane  Female          10          25   \n",
       "2     a520         45     Ramicane    Male          13          21   \n",
       "3     a644         45     Ramicane  Female           7          17   \n",
       "4     c458         30     Ramicane  Female          23          20   \n",
       "\n",
       "   Tumor Volume (mm3)  Metastatic Sites  \n",
       "0           38.407618                 1  \n",
       "1           43.047543                 0  \n",
       "2           38.810366                 1  \n",
       "3           32.978522                 1  \n",
       "4           38.342008                 2  "
      ]
     },
     "execution_count": 25,
     "metadata": {},
     "output_type": "execute_result"
    }
   ],
   "source": [
    "ramicane_timepoint = ramicane.groupby('Mouse ID')['Timepoint'].max()\n",
    "ramicane_tvol = pd.DataFrame(ramicane_timepoint)\n",
    "ramicane_merged = pd.merge(ramicane_tvol, clean_mouse_df, on=(\"Mouse ID\",\"Timepoint\"),how=\"left\")\n",
    "ramicane_merged.head()"
   ]
  },
  {
   "cell_type": "code",
   "execution_count": 28,
   "metadata": {},
   "outputs": [
    {
     "name": "stdout",
     "output_type": "stream",
     "text": [
      "The lower quartile of Ramicane tumors: 32.37735684\n",
      "The upper quartile of Ramicane tumors: 40.1592203\n",
      "The interquartile range of Ramicane tumors: 7.781863460000004\n",
      "Values below 20.70456164999999 are likley to be outliers.\n",
      "Values above 51.83201549 are likley to be outliers.\n"
     ]
    }
   ],
   "source": [
    "ramicane_tumor_data = ramicane_merged[\"Tumor Volume (mm3)\"]\n",
    "\n",
    "quartiles = capomulin_tumor_data.quantile([.25,.5,.75])\n",
    "lower_quartile = quartiles[0.25]\n",
    "upper_quartile = quartiles[0.75]\n",
    "inter_quartile_range = upper_quartile-lower_quartile\n",
    "\n",
    "lower_bound = lower_quartile - (1.5*inter_quartile_range)\n",
    "upper_bound = upper_quartile + (1.5*inter_quartile_range)\n",
    "\n",
    "print(f\"The lower quartile of Ramicane tumors: {lower_quartile}\")\n",
    "print(f\"The upper quartile of Ramicane tumors: {upper_quartile}\")\n",
    "print(f\"The interquartile range of Ramicane tumors: {inter_quartile_range}\")\n",
    "\n",
    "\n",
    "print(f\"Values below {lower_bound} are likley to be outliers.\")\n",
    "print(f\"Values above {upper_bound} are likley to be outliers.\")"
   ]
  },
  {
   "cell_type": "code",
   "execution_count": 47,
   "metadata": {},
   "outputs": [
    {
     "data": {
      "text/html": [
       "<div>\n",
       "<style scoped>\n",
       "    .dataframe tbody tr th:only-of-type {\n",
       "        vertical-align: middle;\n",
       "    }\n",
       "\n",
       "    .dataframe tbody tr th {\n",
       "        vertical-align: top;\n",
       "    }\n",
       "\n",
       "    .dataframe thead th {\n",
       "        text-align: right;\n",
       "    }\n",
       "</style>\n",
       "<table border=\"1\" class=\"dataframe\">\n",
       "  <thead>\n",
       "    <tr style=\"text-align: right;\">\n",
       "      <th></th>\n",
       "      <th>Mouse ID</th>\n",
       "      <th>Timepoint</th>\n",
       "      <th>Drug Regimen</th>\n",
       "      <th>Sex</th>\n",
       "      <th>Age_months</th>\n",
       "      <th>Weight (g)</th>\n",
       "      <th>Tumor Volume (mm3)</th>\n",
       "      <th>Metastatic Sites</th>\n",
       "    </tr>\n",
       "  </thead>\n",
       "  <tbody>\n",
       "    <tr>\n",
       "      <th>0</th>\n",
       "      <td>a203</td>\n",
       "      <td>45</td>\n",
       "      <td>Infubinol</td>\n",
       "      <td>Female</td>\n",
       "      <td>20</td>\n",
       "      <td>23</td>\n",
       "      <td>67.973419</td>\n",
       "      <td>2</td>\n",
       "    </tr>\n",
       "    <tr>\n",
       "      <th>1</th>\n",
       "      <td>a251</td>\n",
       "      <td>45</td>\n",
       "      <td>Infubinol</td>\n",
       "      <td>Female</td>\n",
       "      <td>21</td>\n",
       "      <td>25</td>\n",
       "      <td>65.525743</td>\n",
       "      <td>1</td>\n",
       "    </tr>\n",
       "    <tr>\n",
       "      <th>2</th>\n",
       "      <td>a577</td>\n",
       "      <td>30</td>\n",
       "      <td>Infubinol</td>\n",
       "      <td>Female</td>\n",
       "      <td>6</td>\n",
       "      <td>25</td>\n",
       "      <td>57.031862</td>\n",
       "      <td>2</td>\n",
       "    </tr>\n",
       "    <tr>\n",
       "      <th>3</th>\n",
       "      <td>a685</td>\n",
       "      <td>45</td>\n",
       "      <td>Infubinol</td>\n",
       "      <td>Male</td>\n",
       "      <td>8</td>\n",
       "      <td>30</td>\n",
       "      <td>66.083066</td>\n",
       "      <td>3</td>\n",
       "    </tr>\n",
       "    <tr>\n",
       "      <th>4</th>\n",
       "      <td>c139</td>\n",
       "      <td>45</td>\n",
       "      <td>Infubinol</td>\n",
       "      <td>Male</td>\n",
       "      <td>11</td>\n",
       "      <td>28</td>\n",
       "      <td>72.226731</td>\n",
       "      <td>2</td>\n",
       "    </tr>\n",
       "  </tbody>\n",
       "</table>\n",
       "</div>"
      ],
      "text/plain": [
       "  Mouse ID  Timepoint Drug Regimen     Sex  Age_months  Weight (g)  \\\n",
       "0     a203         45    Infubinol  Female          20          23   \n",
       "1     a251         45    Infubinol  Female          21          25   \n",
       "2     a577         30    Infubinol  Female           6          25   \n",
       "3     a685         45    Infubinol    Male           8          30   \n",
       "4     c139         45    Infubinol    Male          11          28   \n",
       "\n",
       "   Tumor Volume (mm3)  Metastatic Sites  \n",
       "0           67.973419                 2  \n",
       "1           65.525743                 1  \n",
       "2           57.031862                 2  \n",
       "3           66.083066                 3  \n",
       "4           72.226731                 2  "
      ]
     },
     "execution_count": 47,
     "metadata": {},
     "output_type": "execute_result"
    }
   ],
   "source": [
    "infubinol_timepoint = infubinol.groupby('Mouse ID')['Timepoint'].max()\n",
    "infubinol_tvol = pd.DataFrame(infubinol_timepoint)\n",
    "infubinol_merged = pd.merge(infubinol_tvol, clean_mouse_df, on=(\"Mouse ID\",\"Timepoint\"),how=\"left\")\n",
    "infubinol_merged.head()"
   ]
  },
  {
   "cell_type": "code",
   "execution_count": 48,
   "metadata": {},
   "outputs": [
    {
     "name": "stdout",
     "output_type": "stream",
     "text": [
      "The lower quartile of Infubinol tumors: 32.37735684\n",
      "The upper quartile of Infubinol tumors: 40.1592203\n",
      "The interquartile range of Infubinol tumors: 7.781863460000004\n",
      "Values below 20.70456164999999 are likley to be outliers.\n",
      "Values above 51.83201549 are likley to be outliers.\n"
     ]
    }
   ],
   "source": [
    "infubinol_tumor_data = infubinol_merged[\"Tumor Volume (mm3)\"]\n",
    "\n",
    "quartiles = capomulin_tumor_data.quantile([.25,.5,.75])\n",
    "lower_quartile = quartiles[0.25]\n",
    "upper_quartile = quartiles[0.75]\n",
    "inter_quartile_range = upper_quartile-lower_quartile\n",
    "\n",
    "lower_bound = lower_quartile - (1.5*inter_quartile_range)\n",
    "upper_bound = upper_quartile + (1.5*inter_quartile_range)\n",
    "\n",
    "print(f\"The lower quartile of Infubinol tumors: {lower_quartile}\")\n",
    "print(f\"The upper quartile of Infubinol tumors: {upper_quartile}\")\n",
    "print(f\"The interquartile range of Infubinol tumors: {inter_quartile_range}\")\n",
    "\n",
    "\n",
    "print(f\"Values below {lower_bound} are likley to be outliers.\")\n",
    "print(f\"Values above {upper_bound} are likley to be outliers.\")"
   ]
  },
  {
   "cell_type": "code",
   "execution_count": 33,
   "metadata": {},
   "outputs": [
    {
     "data": {
      "text/html": [
       "<div>\n",
       "<style scoped>\n",
       "    .dataframe tbody tr th:only-of-type {\n",
       "        vertical-align: middle;\n",
       "    }\n",
       "\n",
       "    .dataframe tbody tr th {\n",
       "        vertical-align: top;\n",
       "    }\n",
       "\n",
       "    .dataframe thead th {\n",
       "        text-align: right;\n",
       "    }\n",
       "</style>\n",
       "<table border=\"1\" class=\"dataframe\">\n",
       "  <thead>\n",
       "    <tr style=\"text-align: right;\">\n",
       "      <th></th>\n",
       "      <th>Mouse ID</th>\n",
       "      <th>Timepoint</th>\n",
       "      <th>Drug Regimen</th>\n",
       "      <th>Sex</th>\n",
       "      <th>Age_months</th>\n",
       "      <th>Weight (g)</th>\n",
       "      <th>Tumor Volume (mm3)</th>\n",
       "      <th>Metastatic Sites</th>\n",
       "    </tr>\n",
       "  </thead>\n",
       "  <tbody>\n",
       "    <tr>\n",
       "      <th>0</th>\n",
       "      <td>a275</td>\n",
       "      <td>45</td>\n",
       "      <td>Ceftamin</td>\n",
       "      <td>Female</td>\n",
       "      <td>20</td>\n",
       "      <td>28</td>\n",
       "      <td>62.999356</td>\n",
       "      <td>3</td>\n",
       "    </tr>\n",
       "    <tr>\n",
       "      <th>1</th>\n",
       "      <td>b447</td>\n",
       "      <td>0</td>\n",
       "      <td>Ceftamin</td>\n",
       "      <td>Male</td>\n",
       "      <td>2</td>\n",
       "      <td>30</td>\n",
       "      <td>45.000000</td>\n",
       "      <td>0</td>\n",
       "    </tr>\n",
       "    <tr>\n",
       "      <th>2</th>\n",
       "      <td>b487</td>\n",
       "      <td>25</td>\n",
       "      <td>Ceftamin</td>\n",
       "      <td>Female</td>\n",
       "      <td>6</td>\n",
       "      <td>28</td>\n",
       "      <td>56.057749</td>\n",
       "      <td>1</td>\n",
       "    </tr>\n",
       "    <tr>\n",
       "      <th>3</th>\n",
       "      <td>b759</td>\n",
       "      <td>30</td>\n",
       "      <td>Ceftamin</td>\n",
       "      <td>Female</td>\n",
       "      <td>12</td>\n",
       "      <td>25</td>\n",
       "      <td>55.742829</td>\n",
       "      <td>1</td>\n",
       "    </tr>\n",
       "    <tr>\n",
       "      <th>4</th>\n",
       "      <td>f436</td>\n",
       "      <td>15</td>\n",
       "      <td>Ceftamin</td>\n",
       "      <td>Female</td>\n",
       "      <td>3</td>\n",
       "      <td>25</td>\n",
       "      <td>48.722078</td>\n",
       "      <td>2</td>\n",
       "    </tr>\n",
       "  </tbody>\n",
       "</table>\n",
       "</div>"
      ],
      "text/plain": [
       "  Mouse ID  Timepoint Drug Regimen     Sex  Age_months  Weight (g)  \\\n",
       "0     a275         45     Ceftamin  Female          20          28   \n",
       "1     b447          0     Ceftamin    Male           2          30   \n",
       "2     b487         25     Ceftamin  Female           6          28   \n",
       "3     b759         30     Ceftamin  Female          12          25   \n",
       "4     f436         15     Ceftamin  Female           3          25   \n",
       "\n",
       "   Tumor Volume (mm3)  Metastatic Sites  \n",
       "0           62.999356                 3  \n",
       "1           45.000000                 0  \n",
       "2           56.057749                 1  \n",
       "3           55.742829                 1  \n",
       "4           48.722078                 2  "
      ]
     },
     "execution_count": 33,
     "metadata": {},
     "output_type": "execute_result"
    }
   ],
   "source": [
    "ceftamin_timepoint = ceftamin.groupby('Mouse ID')['Timepoint'].max()\n",
    "ceftamin_tvol = pd.DataFrame(ceftamin_timepoint)\n",
    "ceftamin_merged = pd.merge(ceftamin_tvol, clean_mouse_df, on=(\"Mouse ID\",\"Timepoint\"),how=\"left\")\n",
    "ceftamin_merged.head()"
   ]
  },
  {
   "cell_type": "code",
   "execution_count": 34,
   "metadata": {},
   "outputs": [
    {
     "name": "stdout",
     "output_type": "stream",
     "text": [
      "The lower quartile of Ceftamin tumors: 32.37735684\n",
      "The upper quartile of Ceftamin tumors: 40.1592203\n",
      "The interquartile range of Ceftamin tumors: 7.781863460000004\n",
      "Values below 20.70456164999999 are likley to be outliers.\n",
      "Values above 51.83201549 are likley to be outliers.\n"
     ]
    }
   ],
   "source": [
    "ceftamin_tumor_data = ceftamin_merged[\"Tumor Volume (mm3)\"]\n",
    "\n",
    "quartiles = capomulin_tumor_data.quantile([.25,.5,.75])\n",
    "lower_quartile = quartiles[0.25]\n",
    "upper_quartile = quartiles[0.75]\n",
    "inter_quartile_range = upper_quartile-lower_quartile\n",
    "\n",
    "lower_bound = lower_quartile - (1.5*inter_quartile_range)\n",
    "upper_bound = upper_quartile + (1.5*inter_quartile_range)\n",
    "\n",
    "print(f\"The lower quartile of Ceftamin tumors: {lower_quartile}\")\n",
    "print(f\"The upper quartile of Ceftamin tumors: {upper_quartile}\")\n",
    "print(f\"The interquartile range of Ceftamin tumors: {inter_quartile_range}\")\n",
    "\n",
    "\n",
    "print(f\"Values below {lower_bound} are likley to be outliers.\")\n",
    "print(f\"Values above {upper_bound} are likley to be outliers.\")"
   ]
  },
  {
   "cell_type": "code",
   "execution_count": 49,
   "metadata": {},
   "outputs": [
    {
     "data": {
      "image/png": "[encoded data removed]",
      "text/plain": [
       "<Figure size 432x288 with 1 Axes>"
      ]
     },
     "metadata": {
      "needs_background": "light"
     },
     "output_type": "display_data"
    }
   ],
   "source": [
    "# Generate a box plot of the final tumor volume of each mouse across four regimens of interest\n",
    "\n",
    "drug_box_plot = [capomulin_tumor_data, ramicane_tumor_data, infubinol_tumor_data, ceftamin_tumor_data]\n",
    "Drug_Regimen = ['Capomulin', 'Ramicane', 'Infubinol','Ceftamin']\n",
    "\n",
    "fig1, ax1 = plt.subplots()\n",
    "ax1.set_title('Tumor Volume and Drugs Tested of Each Mouse')\n",
    "ax1.set_ylabel('Final Tumor Volume')\n",
    "ax1.set_xlabel('Drugs Tested')\n",
    "ax1.boxplot(drug_box_plot, labels = Drug_Regimen)\n",
    "\n",
    "plt.ylim(20, 75)\n",
    "\n",
    "plt.show()"
   ]
  },
  {
   "cell_type": "markdown",
   "metadata": {},
   "source": [
    "## Line and Scatter Plots"
   ]
  },
  {
   "cell_type": "code",
   "execution_count": 41,
   "metadata": {},
   "outputs": [
    {
     "data": {
      "text/html": [
       "<div>\n",
       "<style scoped>\n",
       "    .dataframe tbody tr th:only-of-type {\n",
       "        vertical-align: middle;\n",
       "    }\n",
       "\n",
       "    .dataframe tbody tr th {\n",
       "        vertical-align: top;\n",
       "    }\n",
       "\n",
       "    .dataframe thead th {\n",
       "        text-align: right;\n",
       "    }\n",
       "</style>\n",
       "<table border=\"1\" class=\"dataframe\">\n",
       "  <thead>\n",
       "    <tr style=\"text-align: right;\">\n",
       "      <th></th>\n",
       "      <th>Mouse ID</th>\n",
       "      <th>Drug Regimen</th>\n",
       "      <th>Sex</th>\n",
       "      <th>Age_months</th>\n",
       "      <th>Weight (g)</th>\n",
       "      <th>Timepoint</th>\n",
       "      <th>Tumor Volume (mm3)</th>\n",
       "      <th>Metastatic Sites</th>\n",
       "    </tr>\n",
       "  </thead>\n",
       "  <tbody>\n",
       "    <tr>\n",
       "      <th>300</th>\n",
       "      <td>b128</td>\n",
       "      <td>Capomulin</td>\n",
       "      <td>Female</td>\n",
       "      <td>9</td>\n",
       "      <td>22</td>\n",
       "      <td>0</td>\n",
       "      <td>45.000000</td>\n",
       "      <td>0</td>\n",
       "    </tr>\n",
       "    <tr>\n",
       "      <th>301</th>\n",
       "      <td>b128</td>\n",
       "      <td>Capomulin</td>\n",
       "      <td>Female</td>\n",
       "      <td>9</td>\n",
       "      <td>22</td>\n",
       "      <td>5</td>\n",
       "      <td>45.651331</td>\n",
       "      <td>0</td>\n",
       "    </tr>\n",
       "    <tr>\n",
       "      <th>302</th>\n",
       "      <td>b128</td>\n",
       "      <td>Capomulin</td>\n",
       "      <td>Female</td>\n",
       "      <td>9</td>\n",
       "      <td>22</td>\n",
       "      <td>10</td>\n",
       "      <td>43.270852</td>\n",
       "      <td>0</td>\n",
       "    </tr>\n",
       "    <tr>\n",
       "      <th>303</th>\n",
       "      <td>b128</td>\n",
       "      <td>Capomulin</td>\n",
       "      <td>Female</td>\n",
       "      <td>9</td>\n",
       "      <td>22</td>\n",
       "      <td>15</td>\n",
       "      <td>43.784893</td>\n",
       "      <td>0</td>\n",
       "    </tr>\n",
       "    <tr>\n",
       "      <th>304</th>\n",
       "      <td>b128</td>\n",
       "      <td>Capomulin</td>\n",
       "      <td>Female</td>\n",
       "      <td>9</td>\n",
       "      <td>22</td>\n",
       "      <td>20</td>\n",
       "      <td>42.731552</td>\n",
       "      <td>0</td>\n",
       "    </tr>\n",
       "  </tbody>\n",
       "</table>\n",
       "</div>"
      ],
      "text/plain": [
       "    Mouse ID Drug Regimen     Sex  Age_months  Weight (g)  Timepoint  \\\n",
       "300     b128    Capomulin  Female           9          22          0   \n",
       "301     b128    Capomulin  Female           9          22          5   \n",
       "302     b128    Capomulin  Female           9          22         10   \n",
       "303     b128    Capomulin  Female           9          22         15   \n",
       "304     b128    Capomulin  Female           9          22         20   \n",
       "\n",
       "     Tumor Volume (mm3)  Metastatic Sites  \n",
       "300           45.000000                 0  \n",
       "301           45.651331                 0  \n",
       "302           43.270852                 0  \n",
       "303           43.784893                 0  \n",
       "304           42.731552                 0  "
      ]
     },
     "execution_count": 41,
     "metadata": {},
     "output_type": "execute_result"
    }
   ],
   "source": [
    "# Generate a line plot of time point versus tumor volume for a mouse treated with Capomulin\n",
    "\n",
    "b128_mouse_df = capomulin.loc[capomulin[\"Mouse ID\"] == \"b128\",:]\n",
    "b128_mouse_df.head()"
   ]
  },
  {
   "cell_type": "code",
   "execution_count": 42,
   "metadata": {},
   "outputs": [
    {
     "data": {
      "text/plain": [
       "Text(0, 0.5, 'Tumor Volume (mm3)')"
      ]
     },
     "execution_count": 42,
     "metadata": {},
     "output_type": "execute_result"
    },
    {
     "data": {
      "image/png": "[encoded data removed]",
      "text/plain": [
       "<Figure size 1080x720 with 1 Axes>"
      ]
     },
     "metadata": {
      "needs_background": "light"
     },
     "output_type": "display_data"
    }
   ],
   "source": [
    "timepoint = b128_mouse_df[\"Timepoint\"]\n",
    "tumor = b128_mouse_df[\"Tumor Volume (mm3)\"]\n",
    "\n",
    "fig1, ax1 = plt.subplots(figsize=(15, 10))\n",
    "plt.title('Treatmeant of mouse b128 (Capomulin)')\n",
    "plt.plot(timepoint, tumor, marker = \"x\")\n",
    "plt.xlabel('Timepoint (days)')\n",
    "plt.ylabel('Tumor Volume (mm3)')"
   ]
  },
  {
   "cell_type": "code",
   "execution_count": 43,
   "metadata": {},
   "outputs": [
    {
     "data": {
      "text/plain": [
       "Text(0, 0.5, 'Average Tumor Volume (mm3)')"
      ]
     },
     "execution_count": 43,
     "metadata": {},
     "output_type": "execute_result"
    },
    {
     "data": {
      "image/png": "[encoded data removed]",
      "text/plain": [
       "<Figure size 1080x720 with 1 Axes>"
      ]
     },
     "metadata": {
      "needs_background": "light"
     },
     "output_type": "display_data"
    }
   ],
   "source": [
    "# Generate a scatter plot of mouse weight versus average tumor volume for the Capomulin regimen\n",
    "\n",
    "fig1, ax1 = plt.subplots(figsize=(15, 10))\n",
    "average_vol_capomulin = capomulin.groupby(['Mouse ID']).mean()\n",
    "\n",
    "marker_size=15\n",
    "plt.scatter(average_vol_capomulin['Weight (g)'],average_vol_capomulin['Tumor Volume (mm3)'], marker = \"x\")\n",
    "plt.title('Mouse Weight Against Averge Tumor Volume (Capomulin)')\n",
    "plt.xlabel('Weight (Grams)')\n",
    "plt.ylabel('Average Tumor Volume (mm3)')\n"
   ]
  },
  {
   "cell_type": "markdown",
   "metadata": {},
   "source": [
    "## Correlation and Regression"
   ]
  },
  {
   "cell_type": "code",
   "execution_count": 44,
   "metadata": {},
   "outputs": [
    {
     "name": "stdout",
     "output_type": "stream",
     "text": [
      "The correlation between mouse weight and average tumor volume is 0.8419363424694717\n"
     ]
    }
   ],
   "source": [
    "# Calculate the correlation coefficient and linear regression model \n",
    "\n",
    "# for mouse weight and average tumor volume for the Capomulin regimen\n",
    "\n",
    "correlation = (st.pearsonr(average_vol_capomulin['Weight (g)'], average_vol_capomulin['Tumor Volume (mm3)'])[0])\n",
    "print(f\"The correlation between mouse weight and average tumor volume is {correlation}\")"
   ]
  },
  {
   "cell_type": "code",
   "execution_count": 45,
   "metadata": {},
   "outputs": [
    {
     "data": {
      "image/png": "[encoded data removed]",
      "text/plain": [
       "<Figure size 432x288 with 1 Axes>"
      ]
     },
     "metadata": {
      "needs_background": "light"
     },
     "output_type": "display_data"
    }
   ],
   "source": [
    "x_values = average_vol_capomulin['Weight (g)']\n",
    "y_values = average_vol_capomulin['Tumor Volume (mm3)']\n",
    "(slope, intercept, rvalue, pvalue, stderr) = linregress(x_values, y_values)\n",
    "regress_values = x_values * slope + intercept\n",
    "line_eq = \"y = \" + str(round(slope,2)) + \"x + \" + str(round(intercept,2))\n",
    "plt.scatter(x_values,y_values)\n",
    "plt.plot(x_values,regress_values,\"r-\")\n",
    "plt.annotate(line_eq,(20,40),fontsize=15,color=\"red\")\n",
    "plt.xlabel('Weight (Grams)')\n",
    "plt.ylabel('Average Tumor Volume)')\n",
    "plt.show()"
   ]
  },
  {
   "cell_type": "code",
   "execution_count": null,
   "metadata": {},
   "outputs": [],
   "source": []
  }
 ],
 "metadata": {
  "anaconda-cloud": {},
  "kernelspec": {
   "display_name": "Python 3",
   "language": "python",
   "name": "python3"
  },
  "language_info": {
   "codemirror_mode": {
    "name": "ipython",
    "version": 3
   },
   "file_extension": ".py",
   "mimetype": "text/x-python",
   "name": "python",
   "nbconvert_exporter": "python",
   "pygments_lexer": "ipython3",
   "version": "3.8.8"
  }
 },
 "nbformat": 4,
 "nbformat_minor": 4
}
