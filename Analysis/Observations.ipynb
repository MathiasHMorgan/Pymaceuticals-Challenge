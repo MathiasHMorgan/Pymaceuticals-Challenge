{
 "cells": [
  {
   "cell_type": "markdown",
   "id": "3b7b1cb7-c3c0-44d0-af04-035043206700",
   "metadata": {},
   "source": [
    "Pymaceutical Observations\n",
    "\n",
    "1. Treament of Mouse b128: \n",
    "\n",
    "The treatment of mouse b128 demonstrates that over a period of approximatley 50 days the capomulin treatment was effective in mititgating the tumor volume present within mouse b128, the line graph demonstrates a very clear down trend over the treament period. from the initial point of treatment at Day 0 until the final day on record the tumor volume decreased from approximatley 45(mm3) to 39(mm3). This may indicate that capomulin is an effective treatment to treat tumors in mice. This is consistent with the final box plot results as capomulin had the second lowest median score for tumor volume over the recorded treatment time period.\n",
    "\n",
    "2. Drug Effectiveness\n",
    "\n",
    "The final box plot reveals that over the recorded data set, capomulin and ramicane can be said to have similiar and superior effectiveness when it comes to treating tumors than that of infubinol and \n",
    "ceftamin. This can be deduced as capomulin and ramicane have the lowest and similiar median values for final tumor volume meaning they are likley the most effectuve drugs to treat tumors in mice.\n",
    "\n",
    "3. Tumor Volume v Weight Relationship\n",
    "\n",
    "The regression analysis and scatter plot on the Tumor volume v Weight relationship relatuve to the capomulin drug reveal a strong positive correlation of 84%, meaning that weight has a direct effect on tumor volume. Therefore it is reasonable to conclude that the higher the weight of a mouse the large the expected volume of the tumor."
   ]
  },
  {
   "cell_type": "code",
   "execution_count": null,
   "id": "466e6db5-b3e6-4d6e-894f-c0c1b81ee86d",
   "metadata": {},
   "outputs": [],
   "source": []
  }
 ],
 "metadata": {
  "kernelspec": {
   "display_name": "Python 3",
   "language": "python",
   "name": "python3"
  },
  "language_info": {
   "codemirror_mode": {
    "name": "ipython",
    "version": 3
   },
   "file_extension": ".py",
   "mimetype": "text/x-python",
   "name": "python",
   "nbconvert_exporter": "python",
   "pygments_lexer": "ipython3",
   "version": "3.8.8"
  }
 },
 "nbformat": 4,
 "nbformat_minor": 5
}
